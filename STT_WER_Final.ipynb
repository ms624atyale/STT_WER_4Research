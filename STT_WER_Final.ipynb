{
  "nbformat": 4,
  "nbformat_minor": 0,
  "metadata": {
    "colab": {
      "provenance": [],
      "authorship_tag": "ABX9TyM5zmF0dnpxN18ANvd35Ino",
      "include_colab_link": true
    },
    "kernelspec": {
      "name": "python3",
      "display_name": "Python 3"
    },
    "language_info": {
      "name": "python"
    }
  },
  "cells": [
    {
      "cell_type": "markdown",
      "metadata": {
        "id": "view-in-github",
        "colab_type": "text"
      },
      "source": [
        "<a href=\"https://colab.research.google.com/github/ms624atyale/STT_WER_4Research/blob/main/STT_WER_Final.ipynb\" target=\"_parent\"><img src=\"https://colab.research.google.com/assets/colab-badge.svg\" alt=\"Open In Colab\"/></a>"
      ]
    },
    {
      "cell_type": "markdown",
      "source": [
        "## 🐹 🐾  <font color = 'red'>**TTS (Text-to-Speech)**\n",
        "\n",
        "### 📌 Precondition:\n",
        "Define your own functions and include them in your code lines.\n",
        "\n",
        "🔍 [about Functions](https://github.com/ms624atyale/Python_Basics/blob/main/8_DefiningFunctions.ipynb)\n",
        "\n",
        "#### **Step 0**: Install gTTS package.\n",
        "\n",
        "     🎧 🔉 TTS (text-to-speech) with multiple accents available\n",
        "     \n",
        "     How to use:\n",
        "     1. Install the gTTS package 🏫 (**code line**: !pip install gTTS)\n",
        "        * The gTTS library is a Python wrapper for the Google Text-to-Speech(TTS)\n",
        "        API(Application Programming Interface). It allows you to convert text into speech using Google's text-to-speech service.\n",
        "        * The gTTS library provides a convenient way to generate speech from text by utilizing the power\n",
        "        of Google's TTS engine. It allows you to specify the text to be converted, choose the desired\n",
        "        language, and control various parameters such as the speed of speech.\n",
        "\n",
        "     2. Import subordinate units (modues🎁 and  functions [📎📐][🏀⚽⚾][📕📗📘📙])\n",
        "\n",
        "     3. Select an accent of your choice among English (en), French (fr), Korean (ko), and Spanish (es).\n",
        "\n",
        "     4. Enter a text, and generate and save a wave file.\n",
        "\n",
        "     5. Play the wave file.\n",
        "\n",
        ">\n",
        "\n",
        "    Commonly used language codes supported by the gTTS\n",
        "    * Afrikaans: \"af\"    * Albanian: \"sq\"\n",
        "    * Arabic: \"ar\"       * Bengali: \"bn\"\n",
        "    * Catalan: \"ca\"      * Chinese (Simplified): \"zh-cn\"\n",
        "    * Chinese (Traditional): \"zh-tw\"     * Croatian: \"hr\"\n",
        "    * Czech: \"cs\"        * Danish: \"da\"\n",
        "    * Dutch: \"nl\"        * English: \"en\"\n",
        "    * Esperanto: \"eo\"    * Estonian: \"et\"\n",
        "    * Filipino: \"tl\"     * Finnish: \"fi\"\n",
        "    * French: \"fr\"       * German: \"de\"\n",
        "    * Greek: \"el\"        * Hindi: \"hi\"\n",
        "    * Hungarian: \"hu\"    * Icelandic: \"is\"\n",
        "    * Indonesian: \"id\".  * Irish: \"ga\"\n",
        "    * Italian: \"it\".     * Japanese: \"ja\"\n",
        "    * Korean: \"ko\"       * Latin: \"la\"\n",
        "    * Latvian: \"lv\"      * Lithuanian: \"lt\"\n",
        "    * Macedonian: \"mk\".  * Malay: \"ms\"\n",
        "    * Maltese: \"mt\".     * Norwegian: \"no\"\n",
        "    * Polish: \"pl\"       * Portuguese: \"pt\"\n",
        "    * Romanian: \"ro\".    * Russian: \"ru\"\n",
        "    * Serbian: \"sr\".     * Slovak: \"sk\"\n",
        "    * Slovenian: \"sl\".   * Spanish: \"es\"\n",
        "    * Swahili: \"sw\".     * Swedish: \"sv\"\n",
        "    * Tamil: \"ta\".       * Telugu: \"te\"\n",
        "    * Thai: \"th\".        * Turkish: \"tr\"\n",
        "    * Ukrainian: \"uk\".   * Urdu: \"ur\"\n",
        "    * Vietnamese: \"vi\".  * Welsh: \"cy\"\n",
        "    * Zulu: \"zu\"\n"
      ],
      "metadata": {
        "id": "yBYKRnFWfXGD"
      }
    },
    {
      "cell_type": "code",
      "source": [
        "#@markdown **Step 1 with annotations**: Install the **gTTS** packages and import its relevant modules and functions\n",
        "\n",
        "#@markdown [IPython & Shell](\"https://github.com/ms624atyale/Python_Basics/blob/main/ChatGPT_1_IPython_Shell.ipynb\")\n",
        "\n",
        "!pip install gTTS\n",
        "from gtts import gTTS #gTTS패키지에서 gTTS모듈을 불러들여라.\n",
        "from IPython.display import Audio #IPython.display모듈에서 Audio함수를 호출한다."
      ],
      "metadata": {
        "colab": {
          "base_uri": "https://localhost:8080/"
        },
        "cellView": "form",
        "id": "AFyY_FrUFhzv",
        "outputId": "a0cc8f83-feb9-4a4c-8004-aa7348d92d36"
      },
      "execution_count": 4,
      "outputs": [
        {
          "output_type": "stream",
          "name": "stdout",
          "text": [
            "Collecting gTTS\n",
            "  Downloading gTTS-2.5.4-py3-none-any.whl.metadata (4.1 kB)\n",
            "Requirement already satisfied: requests<3,>=2.27 in /usr/local/lib/python3.10/dist-packages (from gTTS) (2.32.3)\n",
            "Requirement already satisfied: click<8.2,>=7.1 in /usr/local/lib/python3.10/dist-packages (from gTTS) (8.1.7)\n",
            "Requirement already satisfied: charset-normalizer<4,>=2 in /usr/local/lib/python3.10/dist-packages (from requests<3,>=2.27->gTTS) (3.4.0)\n",
            "Requirement already satisfied: idna<4,>=2.5 in /usr/local/lib/python3.10/dist-packages (from requests<3,>=2.27->gTTS) (3.10)\n",
            "Requirement already satisfied: urllib3<3,>=1.21.1 in /usr/local/lib/python3.10/dist-packages (from requests<3,>=2.27->gTTS) (2.2.3)\n",
            "Requirement already satisfied: certifi>=2017.4.17 in /usr/local/lib/python3.10/dist-packages (from requests<3,>=2.27->gTTS) (2024.8.30)\n",
            "Downloading gTTS-2.5.4-py3-none-any.whl (29 kB)\n",
            "Installing collected packages: gTTS\n",
            "Successfully installed gTTS-2.5.4\n"
          ]
        }
      ]
    },
    {
      "cell_type": "code",
      "source": [
        "#@markdown **Step 2 with annotations**: Define a function that enables a user to i) select an accent, ii) generate a wave file, and iii) spit out a corresponding play window.\n",
        "\n",
        "def tts(text):\n",
        "  text_to_speech = text\n",
        "  language=\"en\" #@param[\"en\",\"fr\",\"ko\",\"es\",\"de\",\"hi\",\"ja\",\"it\"]\n",
        "\n",
        "\n",
        "  gtts_object = gTTS(text = text_to_speech,\n",
        "                     lang = language,\n",
        "                     slow = False)\n",
        "  gtts_object.save(\"myaudio.wav\") #gtts_object변수를 save모듈 사용하여 'myaudio.wav'로 저장하기\n",
        "  return Audio(\"myaudio.wav\") #Audio함수를 사용하여 'myaudio.wav'를 반환하라."
      ],
      "metadata": {
        "cellView": "form",
        "id": "paJAp9gzgEiT"
      },
      "execution_count": 5,
      "outputs": []
    },
    {
      "cell_type": "code",
      "source": [
        "#@markdown **Step 3 with annotations**: Type in (or copy & past) any texts of yoour interest in the input box.\n",
        "\n",
        "#@markdown <font size='2.8'>[Type-in example] : <font color='red'> _finally she administered ether_\n",
        "text_to_speech = input('Enter a text you would like to hear:')\n",
        "txt = str(text_to_speech) #str함수에 입력된 텍스트를 인자로 넣어, 이를 txt변수에 할당.\n",
        "print(\"Help: Three dots in the audio window provide various playback speed. The default is set up for normal.\")\n",
        "tts(txt) #tts함수에 txt변수를 인자로 넣기"
      ],
      "metadata": {
        "colab": {
          "base_uri": "https://localhost:8080/",
          "height": 130
        },
        "id": "dQ-OMssWgRK0",
        "outputId": "467649ef-9033-4640-eb38-7bb222be598a"
      },
      "execution_count": 6,
      "outputs": [
        {
          "output_type": "stream",
          "name": "stdout",
          "text": [
            "Enter a text you would like to hear:finally she administered ether\n",
            "Help: Three dots in the audio window provide various playback speed. The default is set up for normal.\n"
          ]
        },
        {
          "output_type": "execute_result",
          "data": {
            "text/plain": [
              "<IPython.lib.display.Audio object>"
            ],
            "text/html": [
              "\n",
              "                <audio  controls=\"controls\" >\n",
              "                    <source src=\"data:audio/x-wav;base64,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\" type=\"audio/x-wav\" />\n",
              "                    Your browser does not support the audio element.\n",
              "                </audio>\n",
              "              "
            ]
          },
          "metadata": {},
          "execution_count": 6
        }
      ]
    },
    {
      "cell_type": "markdown",
      "source": [
        "## 😉 🐹 🐾 **Automatic Speech Recognition (STT) combined with Word Error Rate**"
      ],
      "metadata": {
        "id": "r19u6FaMgapA"
      }
    },
    {
      "cell_type": "markdown",
      "source": [
        "<font color = 'red'> **WER = Error words (Substitutions + Deletions + Insertions) / Total Reference Words**\n",
        "\n",
        "**Interpretation:** A lower WER indicates better performance, with 0\n",
        "representing perfect transcription and 1 complete misrecognition,\n",
        "potentially exceeding 1 with more insertions.\n",
        "\n",
        "    - To convert human speech in wave format to text using Automatic Speech Recognition (ASR)\n",
        "    or Speech-to-Text (STT) technology, you can utilize the SpeechRecognition library in Python.\n",
        "    This library provides an interface to several popular STT engines. Here's an example code snippet:\n",
        "    In this example, the convert_speech_to_text() function takes the path to the WAV audio file as input\n",
        "    and returns the recognized text. It uses the speech_recognition library to create a Recognizer instance.\n",
        "    The audio file is loaded using sr.AudioFile, and the record() method is used to extract the audio data.\n",
        "    \n",
        "    - The recognize_google() method is used with the Google Speech Recognition API to perform the speech-to-text\n",
        "    conversion. This requires an internet connection and may be subject to usage limits and terms of service.\n",
        "\n",
        "    - Replace \"path/to/your/audio.wav\" with the actual path to your WAV audio file. After running the code,\n",
        "    the recognized text will be printed to the console.\n",
        "\n",
        "    - Note that the accuracy of speech recognition can vary depending on factors such as audio quality,\n",
        "    background noise, speaker accent, and the specific STT engine being used."
      ],
      "metadata": {
        "id": "P419Y8oPTr8y"
      }
    },
    {
      "cell_type": "markdown",
      "source": [
        "###<font color = 'green'> **🐹 👀 Demonstraion for an example**"
      ],
      "metadata": {
        "id": "lZSCtbAgHwHX"
      }
    },
    {
      "cell_type": "code",
      "source": [
        "#subj1_sent_rep1_compressed\n",
        "\n",
        "!pip install python-Levenshtein\n",
        "import Levenshtein\n",
        "\n",
        "def calculate_wer(reference, hypothesis):\n",
        "    reference_words = reference.split()\n",
        "    hypothesis_words = hypothesis.split()\n",
        "\n",
        "    # Compute Levenshtein distance between the reference and hypothesis\n",
        "    distance = Levenshtein.distance(reference_words, hypothesis_words)\n",
        "\n",
        "    # Calculate Word Error Rate (WER)\n",
        "    wer = distance / len(reference_words)\n",
        "    return wer\n",
        "\n",
        "# Example usage\n",
        "reference_text0 = \"finally she administered ether\"\n",
        "hypothesis_text0 = \"finally she administered ether\"\n",
        "wer1 = calculate_wer(reference_text0, hypothesis_text0)\n",
        "print(f\"Word Error Rate (WER): {wer1}\")"
      ],
      "metadata": {
        "colab": {
          "base_uri": "https://localhost:8080/"
        },
        "id": "ql57aIm6iNbE",
        "outputId": "137f2c2a-93f2-4b7f-9a36-c265b4bda0a0"
      },
      "execution_count": 7,
      "outputs": [
        {
          "output_type": "stream",
          "name": "stdout",
          "text": [
            "Collecting python-Levenshtein\n",
            "  Downloading python_Levenshtein-0.26.1-py3-none-any.whl.metadata (3.7 kB)\n",
            "Collecting Levenshtein==0.26.1 (from python-Levenshtein)\n",
            "  Downloading levenshtein-0.26.1-cp310-cp310-manylinux_2_17_x86_64.manylinux2014_x86_64.whl.metadata (3.2 kB)\n",
            "Collecting rapidfuzz<4.0.0,>=3.9.0 (from Levenshtein==0.26.1->python-Levenshtein)\n",
            "  Downloading rapidfuzz-3.10.1-cp310-cp310-manylinux_2_17_x86_64.manylinux2014_x86_64.whl.metadata (11 kB)\n",
            "Downloading python_Levenshtein-0.26.1-py3-none-any.whl (9.4 kB)\n",
            "Downloading levenshtein-0.26.1-cp310-cp310-manylinux_2_17_x86_64.manylinux2014_x86_64.whl (162 kB)\n",
            "\u001b[2K   \u001b[90m━━━━━━━━━━━━━━━━━━━━━━━━━━━━━━━━━━━━━━━━\u001b[0m \u001b[32m162.6/162.6 kB\u001b[0m \u001b[31m3.6 MB/s\u001b[0m eta \u001b[36m0:00:00\u001b[0m\n",
            "\u001b[?25hDownloading rapidfuzz-3.10.1-cp310-cp310-manylinux_2_17_x86_64.manylinux2014_x86_64.whl (3.1 MB)\n",
            "\u001b[2K   \u001b[90m━━━━━━━━━━━━━━━━━━━━━━━━━━━━━━━━━━━━━━━━\u001b[0m \u001b[32m3.1/3.1 MB\u001b[0m \u001b[31m35.8 MB/s\u001b[0m eta \u001b[36m0:00:00\u001b[0m\n",
            "\u001b[?25hInstalling collected packages: rapidfuzz, Levenshtein, python-Levenshtein\n",
            "Successfully installed Levenshtein-0.26.1 python-Levenshtein-0.26.1 rapidfuzz-3.10.1\n",
            "Word Error Rate (WER): 0.0\n"
          ]
        }
      ]
    },
    {
      "cell_type": "code",
      "execution_count": 9,
      "metadata": {
        "colab": {
          "base_uri": "https://localhost:8080/"
        },
        "id": "tCu_W_eg-n4N",
        "outputId": "0f2ca89c-9d3a-4b98-d5cd-2b9c4372fc90"
      },
      "outputs": [
        {
          "output_type": "stream",
          "name": "stdout",
          "text": [
            "Requirement already satisfied: SpeechRecognition in /usr/local/lib/python3.10/dist-packages (3.12.0)\n",
            "Requirement already satisfied: typing-extensions in /usr/local/lib/python3.10/dist-packages (from SpeechRecognition) (4.12.2)\n",
            "File: s7_t1_r2.wav\n",
            "Text: binary show The Mystery Theater\n",
            "Word Count: 5\n",
            "\n",
            "File: s6_t1_r2.wav\n",
            "Text: finally she organized 308 either\n",
            "Word Count: 5\n",
            "\n",
            "File: s4_t1_r2.wav\n",
            "Text: finally she old manuscript eater\n",
            "Word Count: 5\n",
            "\n",
            "File: s1_t1_r2.wav\n",
            "Text: finally she admitted either\n",
            "Word Count: 4\n",
            "\n",
            "File: s3_t1_r2.wav\n",
            "Text: finally she ultimately\n",
            "Word Count: 3\n",
            "\n",
            "File: s5_t1_r2.wav\n",
            "Text: finally she administer either\n",
            "Word Count: 4\n",
            "\n",
            "File: s8_t1_r2.wav\n",
            "Text: finally she administered either\n",
            "Word Count: 4\n",
            "\n",
            "File: s10_t1_r2.wav\n",
            "Text: finally she administrative\n",
            "Word Count: 3\n",
            "\n",
            "File: s9_t1_r2.wav\n",
            "Text: finally she ordered Minister either\n",
            "Word Count: 5\n",
            "\n",
            "File: s2_t1_r2.wav\n",
            "Text: finally she administered either\n",
            "Word Count: 4\n",
            "\n"
          ]
        }
      ],
      "source": [
        "!pip install SpeechRecognition\n",
        "\n",
        "import os\n",
        "import speech_recognition as sr\n",
        "\n",
        "def convert_speech_to_text(audio_file):\n",
        "    recognizer = sr.Recognizer()\n",
        "\n",
        "    with sr.AudioFile(audio_file) as source:\n",
        "        audio = recognizer.record(source)  # Load the audio file\n",
        "\n",
        "    text = recognizer.recognize_google(audio)  # Use Google Speech Recognition API\n",
        "\n",
        "    return text\n",
        "\n",
        "def count_words(text):\n",
        "    words = text.split()  # Split the text into words\n",
        "    return len(words)    # Return the count of words\n",
        "\n",
        "# Path to the folder containing the WAV files\n",
        "folder_path = \"/content/comma1\"\n",
        "\n",
        "# Iterate over the files in the folder\n",
        "for filename in os.listdir(folder_path):\n",
        "    if filename.endswith(\".wav\"):\n",
        "        audio_file = os.path.join(folder_path, filename)\n",
        "\n",
        "        converted_text = convert_speech_to_text(audio_file)  # Convert speech to text\n",
        "\n",
        "        word_count = count_words(converted_text)  # Count the words in the converted text\n",
        "\n",
        "        print(f\"File: {filename}\")\n",
        "        print(f\"Text: {converted_text}\")\n",
        "        print(f\"Word Count: {word_count}\\n\")\n"
      ]
    },
    {
      "cell_type": "markdown",
      "source": [
        "### **💋👂 🔉 Compare each speaker's utterance with the reference text.**\n",
        "\n",
        "- Here I used sentence tokens from 10 speakers.\n",
        "- The reference text is \"finally she administed ether\" 마침내 그녀는 에테르를 투여했다."
      ],
      "metadata": {
        "id": "zwI3d0XUJdmI"
      }
    },
    {
      "cell_type": "code",
      "source": [
        "!pip install python-Levenshtein\n",
        "import Levenshtein\n",
        "\n",
        "def calculate_wer(reference, hypothesis):\n",
        "    reference_words = reference.split()\n",
        "    hypothesis_words = hypothesis.split()\n",
        "\n",
        "    # Compute Levenshtein distance between the reference and hypothesis\n",
        "    distance = Levenshtein.distance(reference_words, hypothesis_words)\n",
        "\n",
        "    # Calculate Word Error Rate (WER)\n",
        "    wer = distance / len(reference_words)\n",
        "    return wer\n",
        "\n",
        "#Compare hypothesis with reference\n",
        "\n",
        "reference_text0 = \"finally she administered ether\"\n",
        "hypothesis_text0 = \"finally she administered ether\"\n",
        "wer1 = calculate_wer(reference_text0, hypothesis_text0)\n",
        "print(f\"Word Error Rate (WER): {wer1}\")\n",
        "\n",
        "reference_text1 = \"finally, she administered ether\"\n",
        "hypothesis_text1 = \"finally she admitted either\"\n",
        "wer1 = calculate_wer(reference_text1, hypothesis_text1)\n",
        "print(f\"Word Error Rate (WER): {wer1}\")\n",
        "\n",
        "reference_text2 = \"Finally, she administered ether\"\n",
        "hypothesis_text2 = \"finally she administered either\"\n",
        "wer2 = calculate_wer(reference_text2, hypothesis_text2)\n",
        "print(f\"Word Error Rate (WER): {wer2}\")\n",
        "\n",
        "reference_text3 = \"finally, she administered ether\"\n",
        "hypothesis_text3 = \"finally she ultimately\"\n",
        "wer3 = calculate_wer(reference_text3, hypothesis_text3)\n",
        "print(f\"Word Error Rate (WER): {wer3}\")\n",
        "\n",
        "reference_text4 = \"finally, she administered ether\"\n",
        "hypothesis_text4 = \"finally she old manuscript eater\"\n",
        "wer4 = calculate_wer(reference_text4, hypothesis_text4)\n",
        "print(f\"Word Error Rate (WER): {wer4}\")\n",
        "\n",
        "reference_text5 = \"finally, she administered ether\"\n",
        "hypothesis_text5 = \"finally she administer either\"\n",
        "wer5 = calculate_wer(reference_text5, hypothesis_text5)\n",
        "print(f\"Word Error Rate (WER): {wer5}\")\n",
        "\n",
        "reference_text6 = \"finally, she administered ether\"\n",
        "hypothesis_text6 = \"finally she organized 308 either\"\n",
        "wer6 = calculate_wer(reference_text6, hypothesis_text6)\n",
        "print(f\"Word Error Rate (WER): {wer6}\")\n",
        "\n",
        "reference_text7 = \"finally, she administered ether\"\n",
        "hypothesis_text7 = \"binary show The Mystery Theater\"\n",
        "wer7 = calculate_wer(reference_text7, hypothesis_text7)\n",
        "print(f\"Word Error Rate (WER): {wer7}\")\n",
        "\n",
        "reference_text8 = \"finally, she administered ether\"\n",
        "hypothesis_text8 = \"finally she administered either\"\n",
        "wer8 = calculate_wer(reference_text8, hypothesis_text8)\n",
        "print(f\"Word Error Rate (WER): {wer8}\")\n",
        "\n",
        "reference_text9 = \"finally, she administered ether\"\n",
        "hypothesis_text9 = \"finally she ordered Minister either\"\n",
        "wer9 = calculate_wer(reference_text9, hypothesis_text9)\n",
        "print(f\"Word Error Rate (WER): {wer9}\")\n",
        "\n",
        "reference_text10 = \"finally, she administered ether\"\n",
        "hypothesis_text10 = \"finally she administrative\"\n",
        "wer10 = calculate_wer(reference_text10, hypothesis_text10)\n",
        "print(f\"Word Error Rate (WER): {wer10}\")"
      ],
      "metadata": {
        "colab": {
          "base_uri": "https://localhost:8080/"
        },
        "id": "N2Yfn9mm_mIz",
        "outputId": "45ec656f-b582-4e34-fa95-f700ee65d670"
      },
      "execution_count": 2,
      "outputs": [
        {
          "output_type": "stream",
          "name": "stdout",
          "text": [
            "Collecting python-Levenshtein\n",
            "  Downloading python_Levenshtein-0.26.1-py3-none-any.whl.metadata (3.7 kB)\n",
            "Collecting Levenshtein==0.26.1 (from python-Levenshtein)\n",
            "  Downloading levenshtein-0.26.1-cp310-cp310-manylinux_2_17_x86_64.manylinux2014_x86_64.whl.metadata (3.2 kB)\n",
            "Collecting rapidfuzz<4.0.0,>=3.9.0 (from Levenshtein==0.26.1->python-Levenshtein)\n",
            "  Downloading rapidfuzz-3.10.1-cp310-cp310-manylinux_2_17_x86_64.manylinux2014_x86_64.whl.metadata (11 kB)\n",
            "Downloading python_Levenshtein-0.26.1-py3-none-any.whl (9.4 kB)\n",
            "Downloading levenshtein-0.26.1-cp310-cp310-manylinux_2_17_x86_64.manylinux2014_x86_64.whl (162 kB)\n",
            "\u001b[2K   \u001b[90m━━━━━━━━━━━━━━━━━━━━━━━━━━━━━━━━━━━━━━━━\u001b[0m \u001b[32m162.6/162.6 kB\u001b[0m \u001b[31m4.7 MB/s\u001b[0m eta \u001b[36m0:00:00\u001b[0m\n",
            "\u001b[?25hDownloading rapidfuzz-3.10.1-cp310-cp310-manylinux_2_17_x86_64.manylinux2014_x86_64.whl (3.1 MB)\n",
            "\u001b[2K   \u001b[90m━━━━━━━━━━━━━━━━━━━━━━━━━━━━━━━━━━━━━━━━\u001b[0m \u001b[32m3.1/3.1 MB\u001b[0m \u001b[31m45.9 MB/s\u001b[0m eta \u001b[36m0:00:00\u001b[0m\n",
            "\u001b[?25hInstalling collected packages: rapidfuzz, Levenshtein, python-Levenshtein\n",
            "Successfully installed Levenshtein-0.26.1 python-Levenshtein-0.26.1 rapidfuzz-3.10.1\n",
            "Word Error Rate (WER): 0.75\n",
            "Word Error Rate (WER): 0.5\n",
            "Word Error Rate (WER): 0.75\n",
            "Word Error Rate (WER): 1.0\n",
            "Word Error Rate (WER): 0.75\n",
            "Word Error Rate (WER): 1.0\n",
            "Word Error Rate (WER): 1.25\n",
            "Word Error Rate (WER): 0.5\n",
            "Word Error Rate (WER): 1.0\n",
            "Word Error Rate (WER): 0.75\n"
          ]
        }
      ]
    },
    {
      "cell_type": "markdown",
      "source": [
        "### **❗🆘❗Compare each speaker's utterance with the reference text modified due to homophonous words between ether and either.**\n",
        "\n",
        "- Here I used sentence tokens from 10 speakers.\n",
        "- The reference text is \"finally she administed either\" 마침내 그녀는 에테르를 투여했다.(Here I used homophonous 'either' instead of 'ether')"
      ],
      "metadata": {
        "id": "HEIrhSH4K5ga"
      }
    },
    {
      "cell_type": "code",
      "source": [
        "!pip install python-Levenshtein\n",
        "import Levenshtein\n",
        "\n",
        "def calculate_wer(reference, hypothesis):\n",
        "    reference_words = reference.split()\n",
        "    hypothesis_words = hypothesis.split()\n",
        "\n",
        "    # Compute Levenshtein distance between the reference and hypothesis\n",
        "    distance = Levenshtein.distance(reference_words, hypothesis_words)\n",
        "\n",
        "    # Calculate Word Error Rate (WER)\n",
        "    wer = distance / len(reference_words)\n",
        "    return wer\n",
        "\n",
        "#Compare hypothesis with reference\n",
        "\n",
        "reference_text0 = \"finally she administered ether\" #No modification\n",
        "hypothesis_text0 = \"finally she administered ether\" #No modification\n",
        "wer1 = calculate_wer(reference_text0, hypothesis_text0)\n",
        "print(f\"Word Error Rate (WER): {wer1}\")\n",
        "\n",
        "reference_text1 = \"finally, she administered either\" #modified due to homophonous 'either', which is a more familiar word and ungrammatical in this particular case\n",
        "hypothesis_text1 = \"finally she admitted either\"\n",
        "wer1 = calculate_wer(reference_text1, hypothesis_text1)\n",
        "print(f\"Word Error Rate (WER): {wer1}\")\n",
        "\n",
        "reference_text2 = \"Finally, she administered either\" #modified due to homophonous 'either', which is a more familiar word and ungrammatical in this particular case\n",
        "hypothesis_text2 = \"finally she administered either\"\n",
        "wer2 = calculate_wer(reference_text2, hypothesis_text2)\n",
        "print(f\"Word Error Rate (WER): {wer2}\")\n",
        "\n",
        "reference_text3 = \"finally, she administered either\" #modified due to homophonous 'either', which is a more familiar word and ungrammatical in this particular case\n",
        "hypothesis_text3 = \"finally she ultimately\"\n",
        "wer3 = calculate_wer(reference_text3, hypothesis_text3)\n",
        "print(f\"Word Error Rate (WER): {wer3}\")\n",
        "\n",
        "reference_text4 = \"finally, she administered either\" #modified due to homophonous 'either', which is a more familiar word and ungrammatical in this particular case\n",
        "hypothesis_text4 = \"finally she old manuscript eater\"\n",
        "wer4 = calculate_wer(reference_text4, hypothesis_text4)\n",
        "print(f\"Word Error Rate (WER): {wer4}\")\n",
        "\n",
        "reference_text5 = \"finally, she administered either\" #modified due to homophonous 'either', which is a more familiar word and ungrammatical in this particular case\n",
        "hypothesis_text5 = \"finally she administer either\"\n",
        "wer5 = calculate_wer(reference_text5, hypothesis_text5)\n",
        "print(f\"Word Error Rate (WER): {wer5}\")\n",
        "\n",
        "reference_text6 = \"finally, she administered either\" #modified due to homophonous 'either', which is a more familiar word and ungrammatical in this particular case\n",
        "hypothesis_text6 = \"finally she organized 308 either\"\n",
        "wer6 = calculate_wer(reference_text6, hypothesis_text6)\n",
        "print(f\"Word Error Rate (WER): {wer6}\")\n",
        "\n",
        "reference_text7 = \"finally, she administered either\" #modified due to homophonous 'either', which is a more familiar word and ungrammatical in this particular case\n",
        "hypothesis_text7 = \"binary show The Mystery Theater\"\n",
        "wer7 = calculate_wer(reference_text7, hypothesis_text7)\n",
        "print(f\"Word Error Rate (WER): {wer7}\")\n",
        "\n",
        "reference_text8 = \"finally, she administered either\" #modified due to homophonous 'either', which is a more familiar word and ungrammatical in this particular case\n",
        "hypothesis_text8 = \"finally she administered either\"\n",
        "wer8 = calculate_wer(reference_text8, hypothesis_text8)\n",
        "print(f\"Word Error Rate (WER): {wer8}\")\n",
        "\n",
        "reference_text9 = \"finally, she administered either\" #modified due to homophonous 'either', which is a more familiar word and ungrammatical in this particular case\n",
        "hypothesis_text9 = \"finally she ordered Minister either\"\n",
        "wer9 = calculate_wer(reference_text9, hypothesis_text9)\n",
        "print(f\"Word Error Rate (WER): {wer9}\")\n",
        "\n",
        "reference_text10 = \"finally, she administered either\" #modified due to homophonous 'either', which is a more familiar word and ungrammatical in this particular case\n",
        "hypothesis_text10 = \"finally she administrative\"\n",
        "wer10 = calculate_wer(reference_text10, hypothesis_text10)\n",
        "print(f\"Word Error Rate (WER): {wer10}\")"
      ],
      "metadata": {
        "colab": {
          "base_uri": "https://localhost:8080/"
        },
        "id": "sWU6YXyTK3_B",
        "outputId": "3111686e-52eb-4722-e518-3463e1542558"
      },
      "execution_count": 10,
      "outputs": [
        {
          "output_type": "stream",
          "name": "stdout",
          "text": [
            "Requirement already satisfied: python-Levenshtein in /usr/local/lib/python3.10/dist-packages (0.26.1)\n",
            "Requirement already satisfied: Levenshtein==0.26.1 in /usr/local/lib/python3.10/dist-packages (from python-Levenshtein) (0.26.1)\n",
            "Requirement already satisfied: rapidfuzz<4.0.0,>=3.9.0 in /usr/local/lib/python3.10/dist-packages (from Levenshtein==0.26.1->python-Levenshtein) (3.10.1)\n",
            "Word Error Rate (WER): 0.0\n",
            "Word Error Rate (WER): 0.5\n",
            "Word Error Rate (WER): 0.25\n",
            "Word Error Rate (WER): 0.75\n",
            "Word Error Rate (WER): 1.0\n",
            "Word Error Rate (WER): 0.5\n",
            "Word Error Rate (WER): 0.75\n",
            "Word Error Rate (WER): 1.25\n",
            "Word Error Rate (WER): 0.25\n",
            "Word Error Rate (WER): 0.75\n",
            "Word Error Rate (WER): 0.75\n"
          ]
        }
      ]
    }
  ]
}